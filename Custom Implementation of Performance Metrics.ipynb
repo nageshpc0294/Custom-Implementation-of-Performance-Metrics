{
 "cells": [
  {
   "cell_type": "markdown",
   "metadata": {
    "id": "s0Ej_bXyQvnV"
   },
   "source": [
    "# Compute performance metrics for the given Y and Y_score without sklearn"
   ]
  },
  {
   "cell_type": "code",
   "execution_count": 1,
   "metadata": {
    "id": "4CHb6NE7Qvnc"
   },
   "outputs": [],
   "source": [
    "import numpy as np\n",
    "import pandas as pd\n",
    "from tqdm import tqdm #imported to check the progress of the for loops"
   ]
  },
  {
   "cell_type": "markdown",
   "metadata": {
    "id": "KbsWXuDaQvnq"
   },
   "source": [
    "\n",
    "## A. Compute performance metrics for the given data '5_a.csv'\n",
    " <pre>  <b>Note 1:</b> in this data you can see number of positive points >> number of negatives points\n",
    "   <b>Note 2:</b> use pandas or numpy to read the data from <b>5_a.csv</b>\n",
    "   <b>Note 3:</b> you need to derive the class labels from given score</pre> $y^{pred}= \\text{[0 if y_score < 0.5 else 1]}$\n",
    "\n",
    "<pre>\n",
    "<ol>\n",
    "<li> Compute Confusion Matrix </li>\n",
    "<li> Compute F1 Score </li>\n",
    "<li> Compute AUC Score, you need to compute different thresholds and for each threshold compute tpr,fpr and then use               numpy.trapz(tpr_array, fpr_array) <a href='https://stackoverflow.com/q/53603376/4084039'>https://stackoverflow.com/q/53603376/4084039</a>, <a href='https://stackoverflow.com/a/39678975/4084039'>https://stackoverflow.com/a/39678975/4084039</a> Note: it should be numpy.trapz(tpr_array, fpr_array) not numpy.trapz(fpr_array, tpr_array)\n",
    "Note- Make sure that you arrange your probability scores in descending order while calculating AUC</li>\n",
    "<li> Compute Accuracy Score </li>\n",
    "</ol>\n",
    "</pre>"
   ]
  },
  {
   "cell_type": "markdown",
   "metadata": {},
   "source": [
    "**1. Compute Confusion Matrix**\n"
   ]
  },
  {
   "cell_type": "code",
   "execution_count": 4,
   "metadata": {
    "id": "WaFLW7oBQvnt",
    "scrolled": true
   },
   "outputs": [
    {
     "data": {
      "text/html": [
       "<div>\n",
       "<style scoped>\n",
       "    .dataframe tbody tr th:only-of-type {\n",
       "        vertical-align: middle;\n",
       "    }\n",
       "\n",
       "    .dataframe tbody tr th {\n",
       "        vertical-align: top;\n",
       "    }\n",
       "\n",
       "    .dataframe thead th {\n",
       "        text-align: right;\n",
       "    }\n",
       "</style>\n",
       "<table border=\"1\" class=\"dataframe\">\n",
       "  <thead>\n",
       "    <tr style=\"text-align: right;\">\n",
       "      <th></th>\n",
       "      <th>y</th>\n",
       "      <th>proba</th>\n",
       "    </tr>\n",
       "  </thead>\n",
       "  <tbody>\n",
       "    <tr>\n",
       "      <th>0</th>\n",
       "      <td>1.0</td>\n",
       "      <td>0.637387</td>\n",
       "    </tr>\n",
       "    <tr>\n",
       "      <th>1</th>\n",
       "      <td>1.0</td>\n",
       "      <td>0.635165</td>\n",
       "    </tr>\n",
       "    <tr>\n",
       "      <th>2</th>\n",
       "      <td>1.0</td>\n",
       "      <td>0.766586</td>\n",
       "    </tr>\n",
       "    <tr>\n",
       "      <th>3</th>\n",
       "      <td>1.0</td>\n",
       "      <td>0.724564</td>\n",
       "    </tr>\n",
       "    <tr>\n",
       "      <th>4</th>\n",
       "      <td>1.0</td>\n",
       "      <td>0.889199</td>\n",
       "    </tr>\n",
       "  </tbody>\n",
       "</table>\n",
       "</div>"
      ],
      "text/plain": [
       "     y     proba\n",
       "0  1.0  0.637387\n",
       "1  1.0  0.635165\n",
       "2  1.0  0.766586\n",
       "3  1.0  0.724564\n",
       "4  1.0  0.889199"
      ]
     },
     "execution_count": 4,
     "metadata": {},
     "output_type": "execute_result"
    }
   ],
   "source": [
    "#reading the csv files to pandas\n",
    "df_a=pd.read_csv('5_a.csv')\n",
    "df_a.head()"
   ]
  },
  {
   "cell_type": "code",
   "execution_count": 5,
   "metadata": {
    "scrolled": false
   },
   "outputs": [
    {
     "data": {
      "text/html": [
       "<div>\n",
       "<style scoped>\n",
       "    .dataframe tbody tr th:only-of-type {\n",
       "        vertical-align: middle;\n",
       "    }\n",
       "\n",
       "    .dataframe tbody tr th {\n",
       "        vertical-align: top;\n",
       "    }\n",
       "\n",
       "    .dataframe thead th {\n",
       "        text-align: right;\n",
       "    }\n",
       "</style>\n",
       "<table border=\"1\" class=\"dataframe\">\n",
       "  <thead>\n",
       "    <tr style=\"text-align: right;\">\n",
       "      <th></th>\n",
       "      <th>y</th>\n",
       "      <th>proba</th>\n",
       "      <th>y^</th>\n",
       "    </tr>\n",
       "  </thead>\n",
       "  <tbody>\n",
       "    <tr>\n",
       "      <th>0</th>\n",
       "      <td>1.0</td>\n",
       "      <td>0.637387</td>\n",
       "      <td>1.0</td>\n",
       "    </tr>\n",
       "    <tr>\n",
       "      <th>1</th>\n",
       "      <td>1.0</td>\n",
       "      <td>0.635165</td>\n",
       "      <td>1.0</td>\n",
       "    </tr>\n",
       "    <tr>\n",
       "      <th>2</th>\n",
       "      <td>1.0</td>\n",
       "      <td>0.766586</td>\n",
       "      <td>1.0</td>\n",
       "    </tr>\n",
       "    <tr>\n",
       "      <th>3</th>\n",
       "      <td>1.0</td>\n",
       "      <td>0.724564</td>\n",
       "      <td>1.0</td>\n",
       "    </tr>\n",
       "    <tr>\n",
       "      <th>4</th>\n",
       "      <td>1.0</td>\n",
       "      <td>0.889199</td>\n",
       "      <td>1.0</td>\n",
       "    </tr>\n",
       "  </tbody>\n",
       "</table>\n",
       "</div>"
      ],
      "text/plain": [
       "     y     proba   y^\n",
       "0  1.0  0.637387  1.0\n",
       "1  1.0  0.635165  1.0\n",
       "2  1.0  0.766586  1.0\n",
       "3  1.0  0.724564  1.0\n",
       "4  1.0  0.889199  1.0"
      ]
     },
     "execution_count": 5,
     "metadata": {},
     "output_type": "execute_result"
    }
   ],
   "source": [
    "#creating the new column predicted values of y\n",
    "confusion_df_a = df_a\n",
    "confusion_df_a[\"y^\"] = np.where(confusion_df_a[\"proba\"] >= 0.5, 1.0, 0.0)\n",
    "confusion_df_a.head()"
   ]
  },
  {
   "cell_type": "code",
   "execution_count": 6,
   "metadata": {},
   "outputs": [],
   "source": [
    "#calculating tp,tn,fp and fn using lenght mesurements of dataframes\n",
    "TP = len(confusion_df_a[(confusion_df_a[\"y\"] == 1.0) & (confusion_df_a[\"y^\"] == 1.0)])\n",
    "TN = len(confusion_df_a[(confusion_df_a[\"y\"] == 0.0) & (confusion_df_a[\"y^\"] == 0.0)])\n",
    "FP = len(confusion_df_a[(confusion_df_a[\"y\"] == 0.0) & (confusion_df_a[\"y^\"] == 1.0)])\n",
    "FN = len(confusion_df_a[(confusion_df_a[\"y\"] == 1.0) & (confusion_df_a[\"y^\"] == 0.0)])"
   ]
  },
  {
   "cell_type": "code",
   "execution_count": 9,
   "metadata": {},
   "outputs": [
    {
     "name": "stdout",
     "output_type": "stream",
     "text": [
      "       Confusion Matrix\n",
      "==============================\n",
      "           Actual values\n",
      "-------------------------\n",
      "Predicted | 0        | 1\n",
      "-------------------------\n",
      " 0        | 0        | 100 \n",
      " 1        | 0        | 10000 \n"
     ]
    }
   ],
   "source": [
    "#printing the confusion matrix\n",
    "print(\"{:<6} Confusion Matrix\".format(\"\"))\n",
    "print(\"=\" * 30)\n",
    "print(\"{:<10} Actual values\".format(\"\"))\n",
    "print(\"-\" * 25)\n",
    "print(\"Predicted | {:<8} | {}\".format(\"0\",\"1\"))\n",
    "print(\"-\" * 25)\n",
    "print(\" {:<8} | {:<8} | {} \".format(\"0\",TN,FP))\n",
    "print(\" {:<8} | {:<8} | {} \".format(\"1\",FN,TP))"
   ]
  },
  {
   "cell_type": "markdown",
   "metadata": {},
   "source": [
    "**2 . Compute F1 Score** "
   ]
  },
  {
   "cell_type": "code",
   "execution_count": 7,
   "metadata": {
    "scrolled": true
   },
   "outputs": [
    {
     "name": "stdout",
     "output_type": "stream",
     "text": [
      "Precision = 0.9900990099009901\n",
      "\n",
      "Recall = 1.0\n",
      "\n",
      "F1 score = 0.9950248756218906\n"
     ]
    }
   ],
   "source": [
    "#calculating precision, recall and F1 scores\n",
    "precision = TP / (TP + FP)\n",
    "\n",
    "recall = TP / (TP + FN)\n",
    "\n",
    "F1_score = ((2 * precision * recall) / (precision + recall))\n",
    "\n",
    "print(\"Precision = {}\\n\\nRecall = {}\\n\\nF1 score = {}\".format(precision,recall,F1_score))"
   ]
  },
  {
   "cell_type": "markdown",
   "metadata": {},
   "source": [
    "**3.Compute AUC Score**"
   ]
  },
  {
   "cell_type": "code",
   "execution_count": 8,
   "metadata": {},
   "outputs": [
    {
     "name": "stdout",
     "output_type": "stream",
     "text": [
      "[0.899965 0.899828 0.899825 ... 0.500058 0.500047 0.500019]\n"
     ]
    }
   ],
   "source": [
    "#finding all the unique probability scores in the dataframes\n",
    "unique_proba_values_df_a = -np.sort(-df_a.proba.unique())\n",
    "print(unique_proba_values_df_a.round(decimals = 6))"
   ]
  },
  {
   "cell_type": "code",
   "execution_count": 14,
   "metadata": {
    "scrolled": true
   },
   "outputs": [
    {
     "name": "stderr",
     "output_type": "stream",
     "text": [
      "100%|██████████████████████████████████████████████████████████████████████████| 10100/10100 [1:19:01<00:00,  2.13it/s]\n"
     ]
    },
    {
     "data": {
      "text/html": [
       "<div>\n",
       "<style scoped>\n",
       "    .dataframe tbody tr th:only-of-type {\n",
       "        vertical-align: middle;\n",
       "    }\n",
       "\n",
       "    .dataframe tbody tr th {\n",
       "        vertical-align: top;\n",
       "    }\n",
       "\n",
       "    .dataframe thead th {\n",
       "        text-align: right;\n",
       "    }\n",
       "</style>\n",
       "<table border=\"1\" class=\"dataframe\">\n",
       "  <thead>\n",
       "    <tr style=\"text-align: right;\">\n",
       "      <th></th>\n",
       "      <th>y</th>\n",
       "      <th>proba</th>\n",
       "      <th>y^</th>\n",
       "      <th>(p, 1)</th>\n",
       "      <th>(p, 2)</th>\n",
       "      <th>(p, 3)</th>\n",
       "      <th>(p, 4)</th>\n",
       "      <th>(p, 5)</th>\n",
       "      <th>(p, 6)</th>\n",
       "      <th>(p, 7)</th>\n",
       "      <th>...</th>\n",
       "      <th>(p, 10091)</th>\n",
       "      <th>(p, 10092)</th>\n",
       "      <th>(p, 10093)</th>\n",
       "      <th>(p, 10094)</th>\n",
       "      <th>(p, 10095)</th>\n",
       "      <th>(p, 10096)</th>\n",
       "      <th>(p, 10097)</th>\n",
       "      <th>(p, 10098)</th>\n",
       "      <th>(p, 10099)</th>\n",
       "      <th>(p, 10100)</th>\n",
       "    </tr>\n",
       "  </thead>\n",
       "  <tbody>\n",
       "    <tr>\n",
       "      <th>1664</th>\n",
       "      <td>1.0</td>\n",
       "      <td>0.899965</td>\n",
       "      <td>1.0</td>\n",
       "      <td>1</td>\n",
       "      <td>1</td>\n",
       "      <td>1</td>\n",
       "      <td>1</td>\n",
       "      <td>1</td>\n",
       "      <td>1</td>\n",
       "      <td>1</td>\n",
       "      <td>...</td>\n",
       "      <td>1</td>\n",
       "      <td>1</td>\n",
       "      <td>1</td>\n",
       "      <td>1</td>\n",
       "      <td>1</td>\n",
       "      <td>1</td>\n",
       "      <td>1</td>\n",
       "      <td>1</td>\n",
       "      <td>1</td>\n",
       "      <td>1</td>\n",
       "    </tr>\n",
       "  </tbody>\n",
       "</table>\n",
       "<p>1 rows × 10103 columns</p>\n",
       "</div>"
      ],
      "text/plain": [
       "        y     proba   y^  (p, 1)  (p, 2)  (p, 3)  (p, 4)  (p, 5)  (p, 6)  \\\n",
       "1664  1.0  0.899965  1.0       1       1       1       1       1       1   \n",
       "\n",
       "      (p, 7)  ...  (p, 10091)  (p, 10092)  (p, 10093)  (p, 10094)  (p, 10095)  \\\n",
       "1664       1  ...           1           1           1           1           1   \n",
       "\n",
       "      (p, 10096)  (p, 10097)  (p, 10098)  (p, 10099)  (p, 10100)  \n",
       "1664           1           1           1           1           1  \n",
       "\n",
       "[1 rows x 10103 columns]"
      ]
     },
     "execution_count": 14,
     "metadata": {},
     "output_type": "execute_result"
    }
   ],
   "source": [
    "#keeping each unique probability scores as thresholds and class labels are found\n",
    "num = 1\n",
    "for i in tqdm(unique_proba_values):\n",
    "    df_a[[(\"p\",num)]] = np.where((df_a[[\"proba\"]] >= i),1,0)\n",
    "    num += 1\n",
    "df_a.loc[[1664]]"
   ]
  },
  {
   "cell_type": "code",
   "execution_count": 128,
   "metadata": {},
   "outputs": [],
   "source": [
    "#deleting the proba and Y^ columns and converting the dataframe to numpy\n",
    "df_a = df_a.drop(columns = [\"proba\",\"y^\"])\n",
    "numpy_df_a = df_a.to_numpy()"
   ]
  },
  {
   "cell_type": "code",
   "execution_count": 132,
   "metadata": {
    "scrolled": true
   },
   "outputs": [
    {
     "name": "stderr",
     "output_type": "stream",
     "text": [
      "100%|████████████████████████████████████████████████████████████████████████████| 10099/10099 [04:32<00:00, 37.03it/s]\n"
     ]
    }
   ],
   "source": [
    "#initializing the empty list to store TPR and FPR values for AUC calculation\n",
    "TPR = FPR = list()\n",
    "\n",
    "#for loop to calculates tp,tn,fn and fp values of each thresholds\n",
    "for j in tqdm(range(1,len(numpy_df_a))):\n",
    "    #concatenating the actual values and predicted column j\n",
    "    C = np.concatenate((numpy_df_a[:,0][:,None],numpy_df_a[:,j][:,None]), axis = 1)\n",
    "    \n",
    "    #initialising tp,tn,fn and fp values and calculating the same using the for loop\n",
    "    T_P = T_N = F_N = F_P = 0\n",
    "    for i in C:\n",
    "        if i[0] == 1 and i[1] == 1:\n",
    "            T_P += 1\n",
    "        elif i[0] == 0 and i[1] == 0:\n",
    "            T_N += 1\n",
    "        elif i[0] == 0 and i[1] == 1:\n",
    "            F_P += 1\n",
    "        else:\n",
    "            F_N += 1\n",
    "            \n",
    "    #appending the TPR and FPR of each column\n",
    "    TPR.append((T_P) / (T_P + F_N))\n",
    "    FPR.append((F_P) / (F_P + T_N))"
   ]
  },
  {
   "cell_type": "code",
   "execution_count": 133,
   "metadata": {},
   "outputs": [],
   "source": [
    "#converting the TPR and FPR list into the array\n",
    "tpr_array = np.asarray(TPR)\n",
    "fpr_array = np.asarray(FPR)"
   ]
  },
  {
   "cell_type": "code",
   "execution_count": 134,
   "metadata": {},
   "outputs": [
    {
     "data": {
      "text/plain": [
       "0.4999999949999998"
      ]
     },
     "execution_count": 134,
     "metadata": {},
     "output_type": "execute_result"
    }
   ],
   "source": [
    "#calculating the AUC\n",
    "np.trapz(tpr_array, fpr_array)"
   ]
  },
  {
   "cell_type": "markdown",
   "metadata": {},
   "source": [
    "**4.Compute Accuracy Score** \n"
   ]
  },
  {
   "cell_type": "code",
   "execution_count": 94,
   "metadata": {
    "scrolled": true
   },
   "outputs": [
    {
     "name": "stdout",
     "output_type": "stream",
     "text": [
      "Accuracy =  0.9900990099009901\n"
     ]
    }
   ],
   "source": [
    "#Accuracy calculation\n",
    "Accuracy = (TP+TN)/(TP+TN+FP+FN)\n",
    "print(\"Accuracy = \", Accuracy)"
   ]
  },
  {
   "cell_type": "markdown",
   "metadata": {
    "id": "V5KZem1BQvn2"
   },
   "source": [
    "\n",
    "\n",
    "## B. Compute performance metrics for the given data '5_b.csv'\n",
    "<pre>\n",
    "   <b>Note 1:</b> in this data you can see number of positive points << number of negatives points\n",
    "   <b>Note 2:</b> use pandas or numpy to read the data from <b>5_b.csv</b>\n",
    "   <b>Note 3:</b> you need to derive the class labels from given score</pre> $y^{pred}= \\text{[0 if y_score < 0.5 else 1]}$\n",
    "\n",
    "<pre>\n",
    "<ol>\n",
    "<li> Compute Confusion Matrix </li>\n",
    "<li> Compute F1 Score </li>\n",
    "<li> Compute AUC Score, you need to compute different thresholds and for each threshold compute tpr,fpr and then use               numpy.trapz(tpr_array, fpr_array) <a href='https://stackoverflow.com/q/53603376/4084039'>https://stackoverflow.com/q/53603376/4084039</a>, <a href='https://stackoverflow.com/a/39678975/4084039'>https://stackoverflow.com/a/39678975/4084039</a>\n",
    "Note- Make sure that you arrange your probability scores in descending order while calculating AUC</li>\n",
    "<li> Compute Accuracy Score </li>\n",
    "</ol>\n",
    "</pre>"
   ]
  },
  {
   "cell_type": "markdown",
   "metadata": {},
   "source": [
    "**1.Compute Confusion Matrix**"
   ]
  },
  {
   "cell_type": "code",
   "execution_count": 10,
   "metadata": {
    "id": "U2sKlq0YQvn5"
   },
   "outputs": [
    {
     "data": {
      "text/html": [
       "<div>\n",
       "<style scoped>\n",
       "    .dataframe tbody tr th:only-of-type {\n",
       "        vertical-align: middle;\n",
       "    }\n",
       "\n",
       "    .dataframe tbody tr th {\n",
       "        vertical-align: top;\n",
       "    }\n",
       "\n",
       "    .dataframe thead th {\n",
       "        text-align: right;\n",
       "    }\n",
       "</style>\n",
       "<table border=\"1\" class=\"dataframe\">\n",
       "  <thead>\n",
       "    <tr style=\"text-align: right;\">\n",
       "      <th></th>\n",
       "      <th>y</th>\n",
       "      <th>proba</th>\n",
       "    </tr>\n",
       "  </thead>\n",
       "  <tbody>\n",
       "    <tr>\n",
       "      <th>0</th>\n",
       "      <td>0.0</td>\n",
       "      <td>0.281035</td>\n",
       "    </tr>\n",
       "    <tr>\n",
       "      <th>1</th>\n",
       "      <td>0.0</td>\n",
       "      <td>0.465152</td>\n",
       "    </tr>\n",
       "    <tr>\n",
       "      <th>2</th>\n",
       "      <td>0.0</td>\n",
       "      <td>0.352793</td>\n",
       "    </tr>\n",
       "    <tr>\n",
       "      <th>3</th>\n",
       "      <td>0.0</td>\n",
       "      <td>0.157818</td>\n",
       "    </tr>\n",
       "    <tr>\n",
       "      <th>4</th>\n",
       "      <td>0.0</td>\n",
       "      <td>0.276648</td>\n",
       "    </tr>\n",
       "  </tbody>\n",
       "</table>\n",
       "</div>"
      ],
      "text/plain": [
       "     y     proba\n",
       "0  0.0  0.281035\n",
       "1  0.0  0.465152\n",
       "2  0.0  0.352793\n",
       "3  0.0  0.157818\n",
       "4  0.0  0.276648"
      ]
     },
     "execution_count": 10,
     "metadata": {},
     "output_type": "execute_result"
    }
   ],
   "source": [
    "#reading the csv files to pandas\n",
    "df_b=pd.read_csv('5_b.csv')\n",
    "df_b.head()"
   ]
  },
  {
   "cell_type": "code",
   "execution_count": 11,
   "metadata": {},
   "outputs": [
    {
     "data": {
      "text/html": [
       "<div>\n",
       "<style scoped>\n",
       "    .dataframe tbody tr th:only-of-type {\n",
       "        vertical-align: middle;\n",
       "    }\n",
       "\n",
       "    .dataframe tbody tr th {\n",
       "        vertical-align: top;\n",
       "    }\n",
       "\n",
       "    .dataframe thead th {\n",
       "        text-align: right;\n",
       "    }\n",
       "</style>\n",
       "<table border=\"1\" class=\"dataframe\">\n",
       "  <thead>\n",
       "    <tr style=\"text-align: right;\">\n",
       "      <th></th>\n",
       "      <th>y</th>\n",
       "      <th>proba</th>\n",
       "      <th>y^</th>\n",
       "    </tr>\n",
       "  </thead>\n",
       "  <tbody>\n",
       "    <tr>\n",
       "      <th>0</th>\n",
       "      <td>0.0</td>\n",
       "      <td>0.281035</td>\n",
       "      <td>0.0</td>\n",
       "    </tr>\n",
       "    <tr>\n",
       "      <th>1</th>\n",
       "      <td>0.0</td>\n",
       "      <td>0.465152</td>\n",
       "      <td>0.0</td>\n",
       "    </tr>\n",
       "    <tr>\n",
       "      <th>2</th>\n",
       "      <td>0.0</td>\n",
       "      <td>0.352793</td>\n",
       "      <td>0.0</td>\n",
       "    </tr>\n",
       "    <tr>\n",
       "      <th>3</th>\n",
       "      <td>0.0</td>\n",
       "      <td>0.157818</td>\n",
       "      <td>0.0</td>\n",
       "    </tr>\n",
       "    <tr>\n",
       "      <th>4</th>\n",
       "      <td>0.0</td>\n",
       "      <td>0.276648</td>\n",
       "      <td>0.0</td>\n",
       "    </tr>\n",
       "  </tbody>\n",
       "</table>\n",
       "</div>"
      ],
      "text/plain": [
       "     y     proba   y^\n",
       "0  0.0  0.281035  0.0\n",
       "1  0.0  0.465152  0.0\n",
       "2  0.0  0.352793  0.0\n",
       "3  0.0  0.157818  0.0\n",
       "4  0.0  0.276648  0.0"
      ]
     },
     "execution_count": 11,
     "metadata": {},
     "output_type": "execute_result"
    }
   ],
   "source": [
    "#creating the new column predicted values of y\n",
    "df_b[\"y^\"] = np.where(df_b[\"proba\"] >= 0.5, 1.0, 0.0)\n",
    "df_b.head()"
   ]
  },
  {
   "cell_type": "code",
   "execution_count": 12,
   "metadata": {},
   "outputs": [],
   "source": [
    "#calculating values needed for computing performace metrics\n",
    "TP1 = len(df_b[(df_b[\"y\"] == 1.0) & (df_b[\"y^\"] == 1.0)])\n",
    "TN1 = len(df_b[(df_b[\"y\"] == 0.0) & (df_b[\"y^\"] == 0.0)])\n",
    "FP1 = len(df_b[(df_b[\"y\"] == 0.0) & (df_b[\"y^\"] == 1.0)])\n",
    "FN1 = len(df_b[(df_b[\"y\"] == 1.0) & (df_b[\"y^\"] == 0.0)])"
   ]
  },
  {
   "cell_type": "code",
   "execution_count": 14,
   "metadata": {},
   "outputs": [
    {
     "name": "stdout",
     "output_type": "stream",
     "text": [
      "       Confusion Matrix\n",
      "==============================\n",
      "           Actual values\n",
      "-------------------------\n",
      "Predicted | 0        | 1\n",
      "-------------------------\n",
      " 0        | 9761     | 239 \n",
      " 1        | 45       | 55 \n"
     ]
    }
   ],
   "source": [
    "#printing the confusion matrix\n",
    "print(\"{:<6} Confusion Matrix\".format(\"\"))\n",
    "print(\"=\" * 30)\n",
    "print(\"{:<10} Actual values\".format(\"\"))\n",
    "print(\"-\" * 25)\n",
    "print(\"Predicted | {:<8} | {}\".format(\"0\",\"1\"))\n",
    "print(\"-\" * 25)\n",
    "print(\" {:<8} | {:<8} | {} \".format(\"0\",TN1,FP1))\n",
    "print(\" {:<8} | {:<8} | {} \".format(\"1\",FN1,TP1))"
   ]
  },
  {
   "cell_type": "markdown",
   "metadata": {},
   "source": [
    "**2.Compute F1 Score**"
   ]
  },
  {
   "cell_type": "code",
   "execution_count": 63,
   "metadata": {
    "scrolled": true
   },
   "outputs": [
    {
     "name": "stdout",
     "output_type": "stream",
     "text": [
      "Precision = 0.1870748299319728\n",
      "\n",
      "Recall = 0.55\n",
      "\n",
      "F1_score = 0.27918781725888325\n"
     ]
    }
   ],
   "source": [
    "#calculating precision, recall and F1 scores\n",
    "precision_2 = TP1 / (TP1 + FP1)\n",
    "\n",
    "recall_2 = TP1 / (TP1 + FN1)\n",
    "\n",
    "F1_score_2 = 2 / ((1/recall_2) + (1/precision_2))\n",
    "print(\"Precision = {}\\n\\nRecall = {}\\n\\nF1_score = {}\".format(precision_2,recall_2,F1_score_2))"
   ]
  },
  {
   "cell_type": "markdown",
   "metadata": {},
   "source": [
    "**3.Compute AUC Score**"
   ]
  },
  {
   "cell_type": "code",
   "execution_count": 20,
   "metadata": {},
   "outputs": [
    {
     "data": {
      "text/plain": [
       "array([0.595294, 0.594808, 0.592198, ..., 0.100165, 0.100161, 0.100001])"
      ]
     },
     "execution_count": 20,
     "metadata": {},
     "output_type": "execute_result"
    }
   ],
   "source": [
    "#finding all the unique probability scores in the dataframes\n",
    "unique_proba_values_df_b = -np.sort(-df_b.proba.unique())\n",
    "unique_proba_values_df_b.round(decimals = 6)"
   ]
  },
  {
   "cell_type": "code",
   "execution_count": 76,
   "metadata": {},
   "outputs": [
    {
     "name": "stderr",
     "output_type": "stream",
     "text": [
      "100%|████████████████████████████████████████████████████████████████████████████| 10100/10100 [56:26<00:00,  2.98it/s]\n"
     ]
    }
   ],
   "source": [
    "#keeping each unique probability scores as thresholds and class labels are found\n",
    "num = 1\n",
    "for i in tqdm(unique_proba_values_df_b):\n",
    "    df_b[[(\"p\",num)]] = np.where((df_b[[\"proba\"]] >= i),1,0)\n",
    "    num += 1"
   ]
  },
  {
   "cell_type": "code",
   "execution_count": 95,
   "metadata": {},
   "outputs": [],
   "source": [
    "#deleting the proba and Y^ columns and converting the dataframe to numpy\n",
    "df_b = df_b.drop(columns = [\"proba\",\"y^\"])\n",
    "numpy_df_b = df_b.to_numpy()"
   ]
  },
  {
   "cell_type": "code",
   "execution_count": 300,
   "metadata": {},
   "outputs": [
    {
     "name": "stderr",
     "output_type": "stream",
     "text": [
      "100%|████████████████████████████████████████████████████████████████████████████| 10099/10099 [05:08<00:00, 32.76it/s]\n"
     ]
    }
   ],
   "source": [
    "#initializing the empty list to store TPR and FPR values for AUC calculation\n",
    "TPR1 = FPR1 = list()\n",
    "\n",
    "#for loop to calculates tp,tn,fn and fp values of each thresholds\n",
    "for j in tqdm(range(1,len(numpy_df_b))):\n",
    "    #concatenating the actual values and predicted column j\n",
    "    C1 = np.concatenate((numpy_df_b[:,0][:,None],numpy_df_b[:,j][:,None]), axis = 1)\n",
    "    \n",
    "    #initialising tp,tn,fn and fp values and calculating the same using the for loop\n",
    "    T_P1 = T_N1 = F_N1 = F_P1 = 0\n",
    "    for i in C1:\n",
    "        if i[0] == 1 and i[1] == 1:\n",
    "            T_P1 += 1\n",
    "        elif i[0] == 0 and i[1] == 0:\n",
    "            T_N1 += 1\n",
    "        elif i[0] == 1 and i[1] == 0:\n",
    "            F_N1 += 1\n",
    "        else:\n",
    "            F_P1 += 1\n",
    "            \n",
    "    #appending the TPR and FPR of each column\n",
    "    TPR1.append((T_P1) / (T_P1 + F_N1))\n",
    "    FPR1.append((F_P1) / (F_P1 + T_N1))"
   ]
  },
  {
   "cell_type": "code",
   "execution_count": 301,
   "metadata": {},
   "outputs": [],
   "source": [
    "#converting the TPR and FPR list into the array\n",
    "tpr_array1 = np.asarray(TPR1)\n",
    "fpr_array1 = np.asarray(FPR1)"
   ]
  },
  {
   "cell_type": "code",
   "execution_count": 303,
   "metadata": {
    "scrolled": true
   },
   "outputs": [
    {
     "data": {
      "text/plain": [
       "0.49985000500000315"
      ]
     },
     "execution_count": 303,
     "metadata": {},
     "output_type": "execute_result"
    }
   ],
   "source": [
    "#calculating the AUC\n",
    "np.trapz(tpr_array1, fpr_array1)"
   ]
  },
  {
   "cell_type": "markdown",
   "metadata": {},
   "source": [
    "**4.Compute Accuracy Score**"
   ]
  },
  {
   "cell_type": "code",
   "execution_count": 104,
   "metadata": {
    "scrolled": true
   },
   "outputs": [
    {
     "name": "stdout",
     "output_type": "stream",
     "text": [
      "Accuracy =  0.9718811881188119\n"
     ]
    }
   ],
   "source": [
    "#Accuracy calculation\n",
    "Accuracy = (TP1+TN1)/(TP1+TN1+FP1+FN1)\n",
    "print(\"Accuracy = \", Accuracy)"
   ]
  },
  {
   "cell_type": "markdown",
   "metadata": {
    "id": "GiPGonTzQvoB"
   },
   "source": [
    "### C. Compute the best threshold (similarly to ROC curve computation) of probability which gives lowest values of metric <b>A</b> for the given data \n",
    "<br>\n",
    "\n",
    "you will be predicting label of a data points like this: $y^{pred}= \\text{[0 if y_score < threshold  else 1]}$\n",
    "\n",
    "$ A = 500 \\times \\text{number of false negative} + 100 \\times \\text{numebr of false positive}$\n",
    "\n",
    "<pre>\n",
    "   <b>Note 1:</b> in this data you can see number of negative points > number of positive points\n",
    "   <b>Note 2:</b> use pandas or numpy to read the data from <b>5_c.csv</b>\n",
    "</pre>"
   ]
  },
  {
   "cell_type": "code",
   "execution_count": 2,
   "metadata": {
    "id": "x5HIJzq1QvoE"
   },
   "outputs": [
    {
     "data": {
      "text/html": [
       "<div>\n",
       "<style scoped>\n",
       "    .dataframe tbody tr th:only-of-type {\n",
       "        vertical-align: middle;\n",
       "    }\n",
       "\n",
       "    .dataframe tbody tr th {\n",
       "        vertical-align: top;\n",
       "    }\n",
       "\n",
       "    .dataframe thead th {\n",
       "        text-align: right;\n",
       "    }\n",
       "</style>\n",
       "<table border=\"1\" class=\"dataframe\">\n",
       "  <thead>\n",
       "    <tr style=\"text-align: right;\">\n",
       "      <th></th>\n",
       "      <th>y</th>\n",
       "      <th>prob</th>\n",
       "    </tr>\n",
       "  </thead>\n",
       "  <tbody>\n",
       "    <tr>\n",
       "      <th>0</th>\n",
       "      <td>0</td>\n",
       "      <td>0.458521</td>\n",
       "    </tr>\n",
       "    <tr>\n",
       "      <th>1</th>\n",
       "      <td>0</td>\n",
       "      <td>0.505037</td>\n",
       "    </tr>\n",
       "    <tr>\n",
       "      <th>2</th>\n",
       "      <td>0</td>\n",
       "      <td>0.418652</td>\n",
       "    </tr>\n",
       "    <tr>\n",
       "      <th>3</th>\n",
       "      <td>0</td>\n",
       "      <td>0.412057</td>\n",
       "    </tr>\n",
       "    <tr>\n",
       "      <th>4</th>\n",
       "      <td>0</td>\n",
       "      <td>0.375579</td>\n",
       "    </tr>\n",
       "  </tbody>\n",
       "</table>\n",
       "</div>"
      ],
      "text/plain": [
       "   y      prob\n",
       "0  0  0.458521\n",
       "1  0  0.505037\n",
       "2  0  0.418652\n",
       "3  0  0.412057\n",
       "4  0  0.375579"
      ]
     },
     "execution_count": 2,
     "metadata": {},
     "output_type": "execute_result"
    }
   ],
   "source": [
    "#reading the csv files to pandas\n",
    "df_c = pd.read_csv('5_c.csv')\n",
    "df_c.head()"
   ]
  },
  {
   "cell_type": "code",
   "execution_count": 3,
   "metadata": {
    "scrolled": true
   },
   "outputs": [
    {
     "name": "stdout",
     "output_type": "stream",
     "text": [
      "[0.9577468  0.95143692 0.94863779 ... 0.02896366 0.02839574 0.02803799]\n"
     ]
    }
   ],
   "source": [
    "#finding the unique probability values and sorting in desceniding values \n",
    "unique_proba_values_df_c = -np.sort(-df_c.prob.unique())\n",
    "print(unique_proba_values_df_c)"
   ]
  },
  {
   "cell_type": "code",
   "execution_count": 4,
   "metadata": {},
   "outputs": [
    {
     "name": "stderr",
     "output_type": "stream",
     "text": [
      "100%|██████████████████████████████████████████████████████████████████████████████| 2791/2791 [01:22<00:00, 33.76it/s]\n"
     ]
    }
   ],
   "source": [
    "#keeping each unique probability scores as thresholds and class labels are found\n",
    "num = 1\n",
    "for i in tqdm(unique_proba_values_df_c):\n",
    "    df_c[[(\"p\",num)]] = np.where((df_c[[\"prob\"]] >= i),1,0)\n",
    "    num += 1"
   ]
  },
  {
   "cell_type": "code",
   "execution_count": 5,
   "metadata": {},
   "outputs": [],
   "source": [
    "#deleting the proba columns and converting the dataframe to numpy\n",
    "df_c = df_c.drop(columns = [\"prob\"])\n",
    "numpy_df_c = df_c.to_numpy()"
   ]
  },
  {
   "cell_type": "code",
   "execution_count": 6,
   "metadata": {},
   "outputs": [
    {
     "name": "stderr",
     "output_type": "stream",
     "text": [
      "100%|█████████████████████████████████████████████████████████████████████████████| 2790/2790 [00:18<00:00, 148.53it/s]\n"
     ]
    }
   ],
   "source": [
    "#initializing the empty list to store scores\n",
    "A = list()\n",
    "for j in tqdm(range(1,len(unique_proba_values_df_c))):\n",
    "    #concatenating the actual values and predicted column j\n",
    "    C1 = np.concatenate((numpy_df_c[:,0][:,None],numpy_df_c[:,j][:,None]), axis = 1)\n",
    "    \n",
    "    #initialising fn and fp values and calculating the same using the for loop\n",
    "    FP_1 = FN_1 = 0\n",
    "    for i in C1:\n",
    "        if i[0] == 0 and i[1] == 1:\n",
    "            FP_1 += 1\n",
    "        elif i[0] == 1 and i[1] == 0:\n",
    "            FN_1 += 1\n",
    "        else:\n",
    "            continue\n",
    "    \n",
    "    #appending the scores of each column\n",
    "    A.append((500 * FN_1) + (100 * FP_1))"
   ]
  },
  {
   "cell_type": "code",
   "execution_count": 7,
   "metadata": {
    "scrolled": true
   },
   "outputs": [],
   "source": [
    "#zipping the dictionary with scores and unique values\n",
    "dictionary = dict(zip(A,unique_proba_values_df_c))"
   ]
  },
  {
   "cell_type": "code",
   "execution_count": 8,
   "metadata": {},
   "outputs": [
    {
     "name": "stdout",
     "output_type": "stream",
     "text": [
      "The lowest values of metric A for the given data 141000\n"
     ]
    }
   ],
   "source": [
    "#sorting the list and finding the list scores\n",
    "sorted_ROC = sorted(A)\n",
    "print(\"The lowest values of metric A for the given data\",sorted_ROC[0])"
   ]
  },
  {
   "cell_type": "code",
   "execution_count": 10,
   "metadata": {
    "scrolled": false
   },
   "outputs": [
    {
     "name": "stdout",
     "output_type": "stream",
     "text": [
      " the best threshold of probability which gives lowest values of metric A for the given data 0.2300390278970873\n"
     ]
    }
   ],
   "source": [
    "#printing the threshold values\n",
    "print(\" the best threshold of probability which gives lowest values of metric A for the given data\",dictionary.get(sorted_ROC[0]))"
   ]
  },
  {
   "cell_type": "markdown",
   "metadata": {
    "id": "sD4CcgjXQvoL"
   },
   "source": [
    "\n",
    "## D.</b></font> Compute performance metrics(for regression) for the given data 5_d.csv\n",
    "<pre>    <b>Note 2:</b> use pandas or numpy to read the data from <b>5_d.csv</b>\n",
    "    <b>Note 1:</b> <b>5_d.csv</b> will having two columns Y and predicted_Y both are real valued features\n",
    "<ol>\n",
    "<li> Compute Mean Square Error </li>\n",
    "<li> Compute MAPE: https://www.youtube.com/watch?v=ly6ztgIkUxk</li>\n",
    "<li> Compute R^2 error: https://en.wikipedia.org/wiki/Coefficient_of_determination#Definitions </li>\n",
    "</ol>\n",
    "</pre>"
   ]
  },
  {
   "cell_type": "markdown",
   "metadata": {},
   "source": [
    "**1.Compute Mean Square Error**"
   ]
  },
  {
   "cell_type": "code",
   "execution_count": 22,
   "metadata": {
    "id": "sVOj-bF9AfCd",
    "scrolled": true
   },
   "outputs": [
    {
     "data": {
      "text/html": [
       "<div>\n",
       "<style scoped>\n",
       "    .dataframe tbody tr th:only-of-type {\n",
       "        vertical-align: middle;\n",
       "    }\n",
       "\n",
       "    .dataframe tbody tr th {\n",
       "        vertical-align: top;\n",
       "    }\n",
       "\n",
       "    .dataframe thead th {\n",
       "        text-align: right;\n",
       "    }\n",
       "</style>\n",
       "<table border=\"1\" class=\"dataframe\">\n",
       "  <thead>\n",
       "    <tr style=\"text-align: right;\">\n",
       "      <th></th>\n",
       "      <th>y</th>\n",
       "      <th>pred</th>\n",
       "    </tr>\n",
       "  </thead>\n",
       "  <tbody>\n",
       "    <tr>\n",
       "      <th>0</th>\n",
       "      <td>101.0</td>\n",
       "      <td>100.0</td>\n",
       "    </tr>\n",
       "    <tr>\n",
       "      <th>1</th>\n",
       "      <td>120.0</td>\n",
       "      <td>100.0</td>\n",
       "    </tr>\n",
       "    <tr>\n",
       "      <th>2</th>\n",
       "      <td>131.0</td>\n",
       "      <td>113.0</td>\n",
       "    </tr>\n",
       "    <tr>\n",
       "      <th>3</th>\n",
       "      <td>164.0</td>\n",
       "      <td>125.0</td>\n",
       "    </tr>\n",
       "    <tr>\n",
       "      <th>4</th>\n",
       "      <td>154.0</td>\n",
       "      <td>152.0</td>\n",
       "    </tr>\n",
       "  </tbody>\n",
       "</table>\n",
       "</div>"
      ],
      "text/plain": [
       "       y   pred\n",
       "0  101.0  100.0\n",
       "1  120.0  100.0\n",
       "2  131.0  113.0\n",
       "3  164.0  125.0\n",
       "4  154.0  152.0"
      ]
     },
     "execution_count": 22,
     "metadata": {},
     "output_type": "execute_result"
    }
   ],
   "source": [
    "#reading the csv files to pandas\n",
    "df_d=pd.read_csv('5_d.csv')\n",
    "df_d.head()"
   ]
  },
  {
   "cell_type": "code",
   "execution_count": 23,
   "metadata": {},
   "outputs": [
    {
     "name": "stdout",
     "output_type": "stream",
     "text": [
      "The mean squared error is : 177.16569974554707\n"
     ]
    }
   ],
   "source": [
    "#creating the columns with squared error\n",
    "df_d[\"error\"] = (df_d[\"y\"] - df_d[\"pred\"])**2\n",
    "\n",
    "#calculating the mean squared error and printing the same\n",
    "Mean_squared_error = (df_d[\"error\"].sum() / len(df_d))\n",
    "print(\"The mean squared error is :\", Mean_squared_error)"
   ]
  },
  {
   "cell_type": "markdown",
   "metadata": {},
   "source": [
    "**2.Compute MAPE**"
   ]
  },
  {
   "cell_type": "code",
   "execution_count": 24,
   "metadata": {},
   "outputs": [
    {
     "name": "stdout",
     "output_type": "stream",
     "text": [
      "The modified mean absolute percentage error is : 0.1291202994009687\n"
     ]
    }
   ],
   "source": [
    "#creating the columns with absolute error\n",
    "df_d[\"Absolute_error\"] = abs(df_d[\"y\"] - df_d[\"pred\"])\n",
    "\n",
    "#calculating the modified mean absolute percentage error\n",
    "MAPE = ((df_d[\"Absolute_error\"].sum()) / (df_d[\"y\"].sum()))\n",
    "print(\"The modified mean absolute percentage error is :\", MAPE)"
   ]
  },
  {
   "cell_type": "markdown",
   "metadata": {},
   "source": [
    "**3.Compute R^2 error**"
   ]
  },
  {
   "cell_type": "code",
   "execution_count": 25,
   "metadata": {},
   "outputs": [],
   "source": [
    "#calculating the mean of actual values\n",
    "df_mean = df_d[\"y\"].mean()"
   ]
  },
  {
   "cell_type": "code",
   "execution_count": 26,
   "metadata": {
    "scrolled": true
   },
   "outputs": [],
   "source": [
    "#calculating the total and residuals sum of squared \n",
    "df_d[\"Absolute_error_squared\"] = df_d[\"Absolute_error\"]**2\n",
    "df_d[\"std\"] = (df_d[[\"pred\"]] - df_mean)**2"
   ]
  },
  {
   "cell_type": "code",
   "execution_count": 31,
   "metadata": {},
   "outputs": [
    {
     "name": "stdout",
     "output_type": "stream",
     "text": [
      "The co-efficient of determination is  0.9544134826849549\n"
     ]
    }
   ],
   "source": [
    "#calculating the R^2 \n",
    "print(\"The co-efficient of determination is \",(1 - (df_d[\"Absolute_error_squared\"].sum() / df_d[\"std\"].sum())))"
   ]
  }
 ],
 "metadata": {
  "colab": {
   "collapsed_sections": [],
   "name": "5_Performance_metrics_Instructions.ipynb",
   "provenance": []
  },
  "kernelspec": {
   "display_name": "Python 3 (ipykernel)",
   "language": "python",
   "name": "python3"
  },
  "language_info": {
   "codemirror_mode": {
    "name": "ipython",
    "version": 3
   },
   "file_extension": ".py",
   "mimetype": "text/x-python",
   "name": "python",
   "nbconvert_exporter": "python",
   "pygments_lexer": "ipython3",
   "version": "3.9.7"
  }
 },
 "nbformat": 4,
 "nbformat_minor": 1
}
